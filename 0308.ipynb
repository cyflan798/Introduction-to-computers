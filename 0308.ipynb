{
  "nbformat": 4,
  "nbformat_minor": 0,
  "metadata": {
    "colab": {
      "provenance": [],
      "authorship_tag": "ABX9TyNT+hqfhXVaaIXWAEBoY3Q7",
      "include_colab_link": true
    },
    "kernelspec": {
      "name": "python3",
      "display_name": "Python 3"
    },
    "language_info": {
      "name": "python"
    }
  },
  "cells": [
    {
      "cell_type": "markdown",
      "metadata": {
        "id": "view-in-github",
        "colab_type": "text"
      },
      "source": [
        "<a href=\"https://colab.research.google.com/github/cyflan798/Introduction-to-computers/blob/main/0308.ipynb\" target=\"_parent\"><img src=\"https://colab.research.google.com/assets/colab-badge.svg\" alt=\"Open In Colab\"/></a>"
      ]
    },
    {
      "cell_type": "code",
      "execution_count": null,
      "metadata": {
        "colab": {
          "base_uri": "https://localhost:8080/"
        },
        "id": "Qgr74pMSSy4b",
        "outputId": "4f71b7c4-6271-4954-a025-489259b24df6"
      },
      "outputs": [
        {
          "output_type": "stream",
          "name": "stdout",
          "text": [
            "100\n",
            "30\n"
          ]
        }
      ],
      "source": [
        "a,b,c=100,50,30\n",
        "print(a)\n",
        "#print(b)\n",
        "print(c)"
      ]
    },
    {
      "cell_type": "code",
      "source": [
        "資概=a\n",
        "print(資概)"
      ],
      "metadata": {
        "colab": {
          "base_uri": "https://localhost:8080/"
        },
        "id": "EZkB7mXhU9JG",
        "outputId": "9a9158cf-fc8b-4998-f2be-f075e704e652"
      },
      "execution_count": null,
      "outputs": [
        {
          "output_type": "stream",
          "name": "stdout",
          "text": [
            "100\n"
          ]
        }
      ]
    },
    {
      "cell_type": "code",
      "source": [
        "age, name = 19,'CY'\n",
        "print('Age:',age,', Name:',name)"
      ],
      "metadata": {
        "colab": {
          "base_uri": "https://localhost:8080/"
        },
        "id": "j-pHpP9PVOI7",
        "outputId": "39c2e4d7-da58-43e4-cb1c-2b52e9601237"
      },
      "execution_count": null,
      "outputs": [
        {
          "output_type": "stream",
          "name": "stdout",
          "text": [
            "Age: 19 , Name: CY\n"
          ]
        }
      ]
    },
    {
      "cell_type": "code",
      "source": [
        "str1=\"PeiYu說：'Hey,你好！'\"\n",
        "str2='PeiYu說：\"Hey,你好！\"'\n",
        "str3=\"CY說：'Hey,你好！'\"\n",
        "str4='CY說：\"Hey,你好！\"'"
      ],
      "metadata": {
        "id": "y5oya7gLYlYR"
      },
      "execution_count": null,
      "outputs": []
    },
    {
      "cell_type": "code",
      "source": [
        "str1"
      ],
      "metadata": {
        "colab": {
          "base_uri": "https://localhost:8080/",
          "height": 35
        },
        "id": "D2bjJwEwY95-",
        "outputId": "943280e3-14e6-4a1e-ee47-db016a19a1e4"
      },
      "execution_count": null,
      "outputs": [
        {
          "output_type": "execute_result",
          "data": {
            "text/plain": [
              "\"PeiYu說：'Hey,你好！'\""
            ],
            "application/vnd.google.colaboratory.intrinsic+json": {
              "type": "string"
            }
          },
          "metadata": {},
          "execution_count": 32
        }
      ]
    },
    {
      "cell_type": "code",
      "source": [
        "str2"
      ],
      "metadata": {
        "colab": {
          "base_uri": "https://localhost:8080/",
          "height": 35
        },
        "id": "qc_XlNB-Zj0M",
        "outputId": "50a5c21b-0e3c-4d25-9ba0-3d21fc4573c9"
      },
      "execution_count": null,
      "outputs": [
        {
          "output_type": "execute_result",
          "data": {
            "text/plain": [
              "'PeiYu說：\"Hey,你好！\"'"
            ],
            "application/vnd.google.colaboratory.intrinsic+json": {
              "type": "string"
            }
          },
          "metadata": {},
          "execution_count": 30
        }
      ]
    },
    {
      "cell_type": "code",
      "source": [
        "str3"
      ],
      "metadata": {
        "colab": {
          "base_uri": "https://localhost:8080/",
          "height": 35
        },
        "id": "TMK5Q6npZt4E",
        "outputId": "bf280754-b0c9-41fc-daf2-89f04d9c46c0"
      },
      "execution_count": null,
      "outputs": [
        {
          "output_type": "execute_result",
          "data": {
            "text/plain": [
              "\"CY說：'Hey,你好！'\""
            ],
            "application/vnd.google.colaboratory.intrinsic+json": {
              "type": "string"
            }
          },
          "metadata": {},
          "execution_count": 35
        }
      ]
    },
    {
      "cell_type": "code",
      "source": [
        "str4"
      ],
      "metadata": {
        "colab": {
          "base_uri": "https://localhost:8080/",
          "height": 35
        },
        "id": "sl78IDy9aFOu",
        "outputId": "205138ba-9ace-4b99-f06c-081623fad7e6"
      },
      "execution_count": null,
      "outputs": [
        {
          "output_type": "execute_result",
          "data": {
            "text/plain": [
              "'CY說：\"Hey,你好！\"'"
            ],
            "application/vnd.google.colaboratory.intrinsic+json": {
              "type": "string"
            }
          },
          "metadata": {},
          "execution_count": 36
        }
      ]
    },
    {
      "cell_type": "code",
      "source": [
        "print(type(36))\n",
        "print(type(50.0))\n",
        "print(type('嗨'))\n",
        "print(type(True))"
      ],
      "metadata": {
        "colab": {
          "base_uri": "https://localhost:8080/"
        },
        "id": "AWJMoNDQaPmu",
        "outputId": "aeb01798-03e4-4405-e48d-b7c3b97a58ed"
      },
      "execution_count": 39,
      "outputs": [
        {
          "output_type": "stream",
          "name": "stdout",
          "text": [
            "<class 'int'>\n",
            "<class 'float'>\n",
            "<class 'str'>\n",
            "<class 'bool'>\n"
          ]
        }
      ]
    }
  ]
}