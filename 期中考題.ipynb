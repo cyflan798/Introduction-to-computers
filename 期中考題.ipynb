{
  "nbformat": 4,
  "nbformat_minor": 0,
  "metadata": {
    "colab": {
      "provenance": [],
      "authorship_tag": "ABX9TyPjWiI/ANPpWareEMu3Pe+x",
      "include_colab_link": true
    },
    "kernelspec": {
      "name": "python3",
      "display_name": "Python 3"
    },
    "language_info": {
      "name": "python"
    }
  },
  "cells": [
    {
      "cell_type": "markdown",
      "metadata": {
        "id": "view-in-github",
        "colab_type": "text"
      },
      "source": [
        "<a href=\"https://colab.research.google.com/github/cyflan798/Introduction-to-computers/blob/main/%E6%9C%9F%E4%B8%AD%E8%80%83%E9%A1%8C.ipynb\" target=\"_parent\"><img src=\"https://colab.research.google.com/assets/colab-badge.svg\" alt=\"Open In Colab\"/></a>"
      ]
    },
    {
      "cell_type": "markdown",
      "source": [
        "Print 文字"
      ],
      "metadata": {
        "id": "Pr9IJQHavmYq"
      }
    },
    {
      "cell_type": "code",
      "execution_count": null,
      "metadata": {
        "colab": {
          "base_uri": "https://localhost:8080/"
        },
        "id": "YPrCra6fvQRt",
        "outputId": "fc023352-226b-4593-ab9d-2bb8ab61c882"
      },
      "outputs": [
        {
          "output_type": "stream",
          "name": "stdout",
          "text": [
            "Peiyu\n",
            "Peiyu\n"
          ]
        }
      ],
      "source": [
        "print(input ())"
      ]
    },
    {
      "cell_type": "markdown",
      "source": [
        "取得字串長度"
      ],
      "metadata": {
        "id": "_utOVDuGv18S"
      }
    },
    {
      "cell_type": "code",
      "source": [
        "a=input()\n",
        "print(len(a))"
      ],
      "metadata": {
        "id": "dX-tvkx4wUbc"
      },
      "execution_count": null,
      "outputs": []
    },
    {
      "cell_type": "markdown",
      "source": [
        "BMI計算"
      ],
      "metadata": {
        "id": "B5CjO_YRw3Xw"
      }
    },
    {
      "cell_type": "code",
      "source": [
        "h,w=input().split('')\n",
        "int_h=int(h)\n",
        "int_w=int(w)\n",
        "h_a=int(h/100)\n",
        "bmi=int_w / h_a**2\n",
        "print(\"%2f\" % bmi)"
      ],
      "metadata": {
        "id": "NNNyNy-Fw2PB"
      },
      "execution_count": null,
      "outputs": []
    },
    {
      "cell_type": "markdown",
      "source": [
        "正整數和"
      ],
      "metadata": {
        "id": "pRtNsLu1w7j6"
      }
    },
    {
      "cell_type": "code",
      "source": [
        "N=int(input())\n",
        "for i in range(10,N+1):\n",
        "   print(i)"
      ],
      "metadata": {
        "colab": {
          "base_uri": "https://localhost:8080/"
        },
        "id": "e7qnfKtpxAnD",
        "outputId": "975087ca-2f92-4754-ee33-3d7144f71a96"
      },
      "execution_count": null,
      "outputs": [
        {
          "output_type": "stream",
          "name": "stdout",
          "text": [
            "15\n",
            "10\n",
            "11\n",
            "12\n",
            "13\n",
            "14\n",
            "15\n"
          ]
        }
      ]
    }
  ]
}